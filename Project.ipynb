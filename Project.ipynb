{
 "cells": [
  {
   "cell_type": "code",
   "execution_count": null,
   "id": "cd727e0e",
   "metadata": {},
   "outputs": [],
   "source": [
    "#Importing Libraries\n",
    "import pandas as pd\n",
    "import numpy as np\n",
    "import matplotlib.pyplot as plt\n",
    "from seaborn import set_style\n",
    "from datetime import datetime\n",
    "set_style(\"whitegrid\")"
   ]
  },
  {
   "cell_type": "code",
   "execution_count": null,
   "id": "e8c66732",
   "metadata": {},
   "outputs": [],
   "source": [
    "#Using full_fred toolkit to access FRED API Server\n",
    "from full_fred.fred import Fred"
   ]
  },
  {
   "cell_type": "code",
   "execution_count": null,
   "id": "916d7e18",
   "metadata": {},
   "outputs": [],
   "source": [
    "#Getting API KEY\n",
    "fred = Fred('FRED_API_KEY.txt')\n",
    "fred.get_api_key_file()  "
   ]
  },
  {
   "cell_type": "code",
   "execution_count": null,
   "id": "e7e70690",
   "metadata": {},
   "outputs": [],
   "source": [
    "#Setting API Key\n",
    "fred.set_api_key_file('FRED_API_KEY.txt')"
   ]
  },
  {
   "cell_type": "code",
   "execution_count": null,
   "id": "8040937a",
   "metadata": {},
   "outputs": [],
   "source": [
    "#Querying the Data Series \n",
    "df_1 = fred.get_series_df('GS1')\n",
    "df_2 = fred.get_series_df('GS2')\n",
    "df_3 = fred.get_series_df('GS3')\n",
    "df_5 = fred.get_series_df('GS5')\n",
    "df_7 = fred.get_series_df('GS7')\n",
    "df_10 = fred.get_series_df('GS10')"
   ]
  },
  {
   "cell_type": "code",
   "execution_count": null,
   "id": "b9892919",
   "metadata": {},
   "outputs": [],
   "source": [
    "df_1.head()"
   ]
  },
  {
   "cell_type": "code",
   "execution_count": null,
   "id": "10818653",
   "metadata": {},
   "outputs": [],
   "source": [
    "#Dropping irrelevant cols\n",
    "df_1 = df_1.drop(['realtime_start','realtime_end'],axis = 1)\n",
    "df_2 = df_2.drop(['realtime_start','realtime_end'],axis = 1)\n",
    "df_3 = df_3.drop(['realtime_start','realtime_end'],axis = 1)\n",
    "df_5 = df_5.drop(['realtime_start','realtime_end'],axis = 1)\n",
    "df_7 = df_7.drop(['realtime_start','realtime_end'],axis = 1)\n",
    "df_10 = df_10.drop(['realtime_start','realtime_end'],axis = 1)"
   ]
  },
  {
   "cell_type": "code",
   "execution_count": null,
   "id": "2d74b691",
   "metadata": {},
   "outputs": [],
   "source": [
    "#Renaming columns to combing into single dataframe\n",
    "df_1 = df_1.rename(columns = {'value' :'value_1'})\n",
    "df_2 = df_2.rename(columns = {'value' :'value_2'})\n",
    "df_3 = df_3.rename(columns = {'value' :'value_3'})\n",
    "df_5 = df_5.rename(columns = {'value' :'value_5'})\n",
    "df_7 = df_7.rename(columns = {'value' :'value_7'})\n",
    "df_10 = df_10.rename(columns = {'value' :'value_10'})"
   ]
  },
  {
   "cell_type": "code",
   "execution_count": null,
   "id": "c1a9189d",
   "metadata": {},
   "outputs": [],
   "source": [
    "#Merge into single Dataframe\n",
    "comb_df = pd.merge(df_1,df_2,how='inner',on='date')\n",
    "comb_df = pd.merge(comb_df,df_3,how='inner',on='date')\n",
    "comb_df = pd.merge(comb_df,df_5,how='inner',on='date')\n",
    "comb_df = pd.merge(comb_df,df_7,how='inner',on='date')\n",
    "comb_df = pd.merge(comb_df,df_10,how='inner',on='date')"
   ]
  },
  {
   "cell_type": "code",
   "execution_count": null,
   "id": "0b544f44",
   "metadata": {},
   "outputs": [],
   "source": [
    "comb_df"
   ]
  },
  {
   "cell_type": "code",
   "execution_count": null,
   "id": "3aa2f4cd",
   "metadata": {},
   "outputs": [],
   "source": [
    "#Sliding Window Function \n",
    "def sliding_window(arr,N):\n",
    "    arr = np.array(arr)\n",
    "    i = 0\n",
    "    new_arr = []\n",
    "    while(i+N<= len(arr)):\n",
    "        new_arr.append(arr[i:i+N])\n",
    "        i+=1\n",
    "    return np.array(new_arr,dtype = 'float')"
   ]
  },
  {
   "cell_type": "code",
   "execution_count": null,
   "id": "6f0f0d90",
   "metadata": {},
   "outputs": [],
   "source": [
    "#Helper Funtion to get Column Names\n",
    "def getColNamesforValue(col,N):\n",
    "    return [(col+str(i)) for i in range(0,N)]"
   ]
  },
  {
   "cell_type": "code",
   "execution_count": null,
   "id": "5955a3f2",
   "metadata": {},
   "outputs": [],
   "source": [
    "# 24 month Slinding Window Model\n",
    "N=25\n",
    "comb_df_sw = pd.DataFrame()\n",
    "comb_df_sw[getColNamesforValue('value_1_',N)] = sliding_window(comb_df['value_1'],N)\n",
    "comb_df_sw[getColNamesforValue('value_2_',N)] = sliding_window(comb_df['value_2'],N)\n",
    "comb_df_sw = comb_df_sw.copy(deep=True)\n",
    "comb_df_sw[getColNamesforValue('value_3_',N)] = sliding_window(comb_df['value_3'],N)\n",
    "comb_df_sw[getColNamesforValue('value_5_',N)] = sliding_window(comb_df['value_5'],N)\n",
    "comb_df_sw[getColNamesforValue('value_7_',N)] = sliding_window(comb_df['value_7'],N)\n",
    "comb_df_sw[getColNamesforValue('value_10_',N)] = sliding_window(comb_df['value_10'],N)\n",
    "comb_df_sw = comb_df_sw.copy(deep=True)"
   ]
  },
  {
   "cell_type": "code",
   "execution_count": null,
   "id": "9d0df0a7",
   "metadata": {},
   "outputs": [],
   "source": [
    "comb_df_sw"
   ]
  },
  {
   "cell_type": "code",
   "execution_count": null,
   "id": "c0f51fc3",
   "metadata": {},
   "outputs": [],
   "source": [
    "#comb_df_sw['date'] = comb_df.iloc[0:len(comb_df.index)+1-N]['date']"
   ]
  },
  {
   "cell_type": "code",
   "execution_count": null,
   "id": "66d0709e",
   "metadata": {},
   "outputs": [],
   "source": [
    "comb_df_sw"
   ]
  },
  {
   "cell_type": "code",
   "execution_count": null,
   "id": "6b9b0d53",
   "metadata": {},
   "outputs": [],
   "source": [
    "comb_df_sw['value_1_24']"
   ]
  },
  {
   "cell_type": "code",
   "execution_count": null,
   "id": "c1504efc",
   "metadata": {},
   "outputs": [],
   "source": [
    "#Preparing X and Y \n",
    "X_cols = []\n",
    "Y_cols = []\n",
    "for a in comb_df_sw.columns:\n",
    "    if '24' in a:\n",
    "        Y_cols.append(a)\n",
    "    else:\n",
    "        X_cols.append(a)\n",
    "\n",
    "comb_df_sw_X = comb_df_sw[X_cols]\n",
    "comb_df_sw_X"
   ]
  },
  {
   "cell_type": "code",
   "execution_count": null,
   "id": "c8c41153",
   "metadata": {},
   "outputs": [],
   "source": [
    "comb_df_sw_Y = comb_df_sw[Y_cols]\n",
    "comb_df_sw_Y"
   ]
  },
  {
   "cell_type": "code",
   "execution_count": null,
   "id": "339c81ae",
   "metadata": {
    "scrolled": true
   },
   "outputs": [],
   "source": [
    "k_l = int(len(comb_df_sw_X.index)*0.7)\n",
    "k_v = int(len(comb_df_sw_X.index)*0.8)\n",
    "\n",
    "comb_df_sw_TrainingX = comb_df_sw_X.iloc[0:k_l,:].copy(deep=True)\n",
    "comb_df_sw_TrainingY = comb_df_sw_Y.iloc[0:k_l,:].copy(deep=True)\n",
    "comb_df_sw_ValX = comb_df_sw_X.iloc[k_l:k_v,:].copy(deep=True)\n",
    "comb_df_sw_ValY = comb_df_sw_Y.iloc[k_l:k_v,:].copy(deep=True)\n",
    "comb_df_sw_TestX = comb_df_sw_X.iloc[k_v:,:].copy(deep=True)\n",
    "comb_df_sw_TestY = comb_df_sw_X.iloc[k_v:,:].copy(deep=True)"
   ]
  },
  {
   "cell_type": "code",
   "execution_count": null,
   "id": "6bd75255",
   "metadata": {},
   "outputs": [],
   "source": []
  },
  {
   "cell_type": "code",
   "execution_count": null,
   "id": "9a58d487",
   "metadata": {},
   "outputs": [],
   "source": [
    "\n",
    "from sklearn.metrics import mean_squared_error"
   ]
  },
  {
   "cell_type": "code",
   "execution_count": null,
   "id": "252ad989",
   "metadata": {},
   "outputs": [],
   "source": []
  },
  {
   "cell_type": "code",
   "execution_count": null,
   "id": "2ecab585",
   "metadata": {},
   "outputs": [],
   "source": [
    "#Helper Funtion to calculate mean_sq\n",
    "def mean_sq_calculate(df_1,df_2):\n",
    "    mean_sq = []\n",
    "    mean_sq.append(mean_squared_error(df_1['value_1'],df_2['value_1_24']))\n",
    "    mean_sq.append(mean_squared_error(df_1['value_2'],df_2['value_2_24']))\n",
    "    mean_sq.append(mean_squared_error(df_1['value_3'],df_2['value_3_24']))\n",
    "    mean_sq.append(mean_squared_error(df_1['value_5'],df_2['value_5_24']))\n",
    "    mean_sq.append(mean_squared_error(df_1['value_7'],df_2['value_7_24']))\n",
    "    mean_sq.append(mean_squared_error(df_1['value_10'],df_2['value_10_24']))\n",
    "    return mean_sq\n",
    "    "
   ]
  },
  {
   "cell_type": "code",
   "execution_count": null,
   "id": "52844df9",
   "metadata": {},
   "outputs": [],
   "source": [
    "i = 0\n",
    "\n",
    "mean_sq=[]\n",
    "score = []\n",
    "X_train = comb_df_sw_TrainingX\n",
    "Y_train = comb_df_sw_TrainingY\n",
    "X_ho = comb_df_sw_ValX\n",
    "Y_ho = comb_df_sw_ValY\n",
    "\n",
    "\n",
    "#Average of Sliding Window for that variable\n",
    "avg_pred = pd.DataFrame()\n",
    "avg_pred['value_1'] = X_ho.loc[:,'value_1_0':'value_1_23'].mean(axis=1)\n",
    "avg_pred['value_2'] = X_ho.loc[:,'value_2_0':'value_2_23'].mean(axis=1)\n",
    "avg_pred['value_3'] = X_ho.loc[:,'value_3_0':'value_3_23'].mean(axis=1)\n",
    "avg_pred['value_5'] = X_ho.loc[:,'value_5_0':'value_5_23'].mean(axis=1)\n",
    "avg_pred['value_7'] = X_ho.loc[:,'value_7_0':'value_7_23'].mean(axis=1)\n",
    "avg_pred['value_10'] = X_ho.loc[:,'value_10_0':'value_10_23'].mean(axis=1)\n",
    "\n",
    "\n",
    "avg_mean_sq = [i,'AVG']+mean_sq_calculate(avg_pred,Y_ho)\n",
    "mean_sq.append(avg_mean_sq)\n",
    "\n",
    "#Linear Regression\n",
    "from sklearn.linear_model import LinearRegression\n",
    "lin_reg = pd.DataFrame()\n",
    "\n",
    "LinearRegression_1 = LinearRegression()\n",
    "LinearRegression_1.fit(X_train,Y_train['value_1_24'])    \n",
    "\n",
    "lin_reg['value_1'] = LinearRegression_1.predict(X_ho)\n",
    "\n",
    "LinearRegression_2 = LinearRegression()\n",
    "LinearRegression_2.fit(X_train,Y_train['value_2_24'])    \n",
    "\n",
    "lin_reg['value_2'] = LinearRegression_2.predict(X_ho)\n",
    "\n",
    "LinearRegression_3 = LinearRegression()\n",
    "LinearRegression_3.fit(X_train,Y_train['value_3_24'])    \n",
    "\n",
    "lin_reg['value_3'] = LinearRegression_3.predict(X_ho)\n",
    "\n",
    "LinearRegression_5 = LinearRegression()\n",
    "LinearRegression_5.fit(X_train,Y_train['value_5_24'])    \n",
    "\n",
    "lin_reg['value_5'] = LinearRegression_5.predict(X_ho)\n",
    "\n",
    "LinearRegression_7 = LinearRegression()\n",
    "LinearRegression_7.fit(X_train,Y_train['value_7_24'])    \n",
    "\n",
    "lin_reg['value_7'] = LinearRegression_7.predict(X_ho)\n",
    "\n",
    "LinearRegression_10 = LinearRegression()\n",
    "LinearRegression_10.fit(X_train,Y_train['value_10_24'])    \n",
    "\n",
    "lin_reg['value_10'] = LinearRegression_10.predict(X_ho)\n",
    "\n",
    "\n",
    "linreg_mean_sq = [i,'LinReg']+mean_sq_calculate(lin_reg,Y_ho)\n",
    "mean_sq.append(linreg_mean_sq)\n",
    "\n",
    "s = []\n",
    "s.append(LinearRegression_1.score(X_ho,Y_ho['value_1_24']))\n",
    "s.append(LinearRegression_2.score(X_ho,Y_ho['value_2_24']))\n",
    "s.append(LinearRegression_3.score(X_ho,Y_ho['value_3_24']))\n",
    "s.append(LinearRegression_5.score(X_ho,Y_ho['value_5_24']))\n",
    "s.append(LinearRegression_7.score(X_ho,Y_ho['value_7_24']))\n",
    "s.append(LinearRegression_10.score(X_ho,Y_ho['value_10_24']))\n",
    "\n",
    "score.append(s)\n",
    "\n",
    "i+=1\n",
    "\n"
   ]
  },
  {
   "cell_type": "code",
   "execution_count": null,
   "id": "8c1cf0a7",
   "metadata": {},
   "outputs": [],
   "source": [
    "#This table compares Taking average vs Linear Regression on Sliding Window to Predict the next month's values. \n",
    "mean_sq = pd.DataFrame(mean_sq,columns=['N','Model','Value_1','Value_2','Value_3','Value_5','Value_7','Value_10'])\n",
    "mean_sq"
   ]
  },
  {
   "cell_type": "code",
   "execution_count": null,
   "id": "ae3dadfc",
   "metadata": {},
   "outputs": [],
   "source": [
    "score = pd.DataFrame(score,columns=['Value_1','Value_2','Value_3','Value_5','Value_7','Value_10'])\n",
    "score"
   ]
  },
  {
   "cell_type": "code",
   "execution_count": null,
   "id": "5941994f",
   "metadata": {},
   "outputs": [],
   "source": [
    "#Using Lasso on df_1\n",
    "#l1 = int(len(comb_df_sw_X)*0.7)\n",
    "Lasso_X_train = comb_df_sw_X[0:k_l].copy(deep=True)\n",
    "Lasso_X_test = comb_df_sw_X[k_l:k_v].copy(deep=True)\n",
    "Lasso_Y_train = comb_df_sw_Y[0:k_l].copy(deep=True)\n",
    "Lasso_Y_test = comb_df_sw_Y[k_l:k_v].copy(deep=True)"
   ]
  },
  {
   "cell_type": "code",
   "execution_count": null,
   "id": "c03d63da",
   "metadata": {},
   "outputs": [],
   "source": []
  },
  {
   "cell_type": "code",
   "execution_count": null,
   "id": "3f2fbee1",
   "metadata": {},
   "outputs": [],
   "source": [
    "from sklearn.linear_model import Lasso\n",
    "Lasso_model_1 = Lasso()\n",
    "Lasso_model_1.fit(Lasso_X_train,Lasso_Y_train['value_1_24'])"
   ]
  },
  {
   "cell_type": "code",
   "execution_count": null,
   "id": "bc8a4aec",
   "metadata": {},
   "outputs": [],
   "source": [
    "Lasso_model_1.score(Lasso_X_test,Lasso_Y_test['value_1_24'].values,sample_weight=None)"
   ]
  },
  {
   "cell_type": "code",
   "execution_count": null,
   "id": "2d5b9dfc",
   "metadata": {},
   "outputs": [],
   "source": [
    "coeff_DF_1 = pd.DataFrame([Lasso_X_train.columns,Lasso_model_1.coef_])\n",
    "coeff_DF_1.T.sort_values(1,ascending = False).head(10)"
   ]
  },
  {
   "cell_type": "code",
   "execution_count": null,
   "id": "bcadbd0a",
   "metadata": {},
   "outputs": [],
   "source": [
    "#Using Lasso on df_2\n",
    "Lasso_model_2 = Lasso()\n",
    "Lasso_model_2.fit(Lasso_X_train,Lasso_Y_train['value_2_24'])\n",
    "\n",
    "print(Lasso_model_2.score(Lasso_X_test,Lasso_Y_test['value_2_24'].values,sample_weight=None))\n",
    "\n",
    "coeff_DF_2 = pd.DataFrame([Lasso_X_train.columns,Lasso_model_2.coef_])\n",
    "coeff_DF_2.T.sort_values(1,ascending = False).head(10)"
   ]
  },
  {
   "cell_type": "code",
   "execution_count": null,
   "id": "5b7d7082",
   "metadata": {},
   "outputs": [],
   "source": [
    "#Lasso on df_3\n",
    "Lasso_model_3 = Lasso()\n",
    "Lasso_model_3.fit(Lasso_X_train,Lasso_Y_train['value_3_24'])\n",
    "\n",
    "print(Lasso_model_3.score(Lasso_X_test,Lasso_Y_test['value_3_24'].values,sample_weight=None))\n",
    "\n",
    "coeff_DF_3 = pd.DataFrame([Lasso_X_train.columns,Lasso_model_3.coef_])\n",
    "coeff_DF_3.T.sort_values(1,ascending = False).head(10)"
   ]
  },
  {
   "cell_type": "code",
   "execution_count": null,
   "id": "61713ef9",
   "metadata": {},
   "outputs": [],
   "source": [
    "#Lasso on df_5\n",
    "Lasso_model_5 = Lasso()\n",
    "Lasso_model_5.fit(Lasso_X_train,Lasso_Y_train['value_5_24'])\n",
    "\n",
    "print(Lasso_model_5.score(Lasso_X_test,Lasso_Y_test['value_5_24'].values,sample_weight=None))\n",
    "\n",
    "coeff_DF_5 = pd.DataFrame([Lasso_X_train.columns,Lasso_model_5.coef_])\n",
    "coeff_DF_5.T.sort_values(1,ascending = False).head(10)"
   ]
  },
  {
   "cell_type": "code",
   "execution_count": null,
   "id": "997b144d",
   "metadata": {},
   "outputs": [],
   "source": [
    "#Lasso on df_7\n",
    "Lasso_model_7 = Lasso()\n",
    "Lasso_model_7.fit(Lasso_X_train,Lasso_Y_train['value_7_24'])\n",
    "\n",
    "print(Lasso_model_7.score(Lasso_X_test,Lasso_Y_test['value_7_24'].values,sample_weight=None))\n",
    "\n",
    "coeff_DF_7 = pd.DataFrame([Lasso_X_train.columns,Lasso_model_7.coef_])\n",
    "coeff_DF_7.T.sort_values(1,ascending = False).head(10)"
   ]
  },
  {
   "cell_type": "code",
   "execution_count": null,
   "id": "afe32775",
   "metadata": {},
   "outputs": [],
   "source": [
    "#Lasso on df_10\n",
    "Lasso_model_10 = Lasso()\n",
    "Lasso_model_10.fit(Lasso_X_train,Lasso_Y_train['value_10_24'])\n",
    "\n",
    "print(Lasso_model_10.score(Lasso_X_test,Lasso_Y_test['value_10_24'].values,sample_weight=None))\n",
    "\n",
    "coeff_DF_10 = pd.DataFrame([Lasso_X_train.columns,Lasso_model_10.coef_])\n",
    "coeff_DF_10.T.sort_values(1,ascending = False).head(10)"
   ]
  },
  {
   "cell_type": "code",
   "execution_count": null,
   "id": "ce5a7d9f",
   "metadata": {},
   "outputs": [],
   "source": [
    "#Using Linear Regression on only the last month's entries since Lasso tells us that's only what matters.\n",
    "i = 0\n",
    "\n",
    "mean_sq=[]\n",
    "score_1 = []\n",
    "\n",
    "X_train = comb_df_sw_TrainingX\n",
    "Y_train = comb_df_sw_TrainingY\n",
    "X_ho = comb_df_sw_ValX\n",
    "Y_ho = comb_df_sw_ValY\n",
    "\n",
    "\n",
    "\n",
    "#Average of Sliding Window for that variable\n",
    "avg_pred = pd.DataFrame()\n",
    "avg_pred['value_1'] = X_ho.loc[:,'value_1_0':'value_1_23'].mean(axis=1)\n",
    "avg_pred['value_2'] = X_ho.loc[:,'value_2_0':'value_2_23'].mean(axis=1)\n",
    "avg_pred['value_3'] = X_ho.loc[:,'value_3_0':'value_3_23'].mean(axis=1)\n",
    "avg_pred['value_5'] = X_ho.loc[:,'value_5_0':'value_5_23'].mean(axis=1)\n",
    "avg_pred['value_7'] = X_ho.loc[:,'value_7_0':'value_7_23'].mean(axis=1)\n",
    "avg_pred['value_10'] = X_ho.loc[:,'value_10_0':'value_10_23'].mean(axis=1)\n",
    "\n",
    "\n",
    "avg_mean_sq = [i,'AVG']+mean_sq_calculate(avg_pred,Y_ho)\n",
    "mean_sq.append(avg_mean_sq)\n",
    "\n",
    "#Linear Regression\n",
    "from sklearn.linear_model import LinearRegression\n",
    "lin_reg = pd.DataFrame()\n",
    "\n",
    "LinearRegression_1 = LinearRegression()\n",
    "X_train_1 = X_train.loc[:,['value_1_23','value_2_23']]\n",
    "LinearRegression_1.fit(X_train_1,Y_train['value_1_24'])    \n",
    "\n",
    "lin_reg['value_1'] = LinearRegression_1.predict(X_ho.loc[:,['value_1_23','value_2_23']])\n",
    "\n",
    "LinearRegression_2 = LinearRegression()\n",
    "LinearRegression_2.fit(X_train.loc[:,['value_1_23','value_2_23']],Y_train['value_2_24'])    \n",
    "\n",
    "lin_reg['value_2'] = LinearRegression_2.predict(X_ho.loc[:,['value_1_23','value_2_23']])\n",
    "\n",
    "LinearRegression_3 = LinearRegression()\n",
    "LinearRegression_3.fit(X_train.loc[:,['value_2_23','value_3_23']],Y_train['value_3_24'])    \n",
    "\n",
    "lin_reg['value_3'] = LinearRegression_3.predict(X_ho.loc[:,['value_2_23','value_3_23']])\n",
    "\n",
    "LinearRegression_5 = LinearRegression()\n",
    "LinearRegression_5.fit(X_train.loc[:,['value_3_23','value_5_23']],Y_train['value_5_24'])    \n",
    "\n",
    "lin_reg['value_5'] = LinearRegression_5.predict(X_ho.loc[:,['value_3_23','value_5_23']])\n",
    "\n",
    "LinearRegression_7 = LinearRegression()\n",
    "LinearRegression_7.fit(X_train.loc[:,['value_3_23','value_5_23','value_7_23']],Y_train['value_7_24'])    \n",
    "\n",
    "lin_reg['value_7'] = LinearRegression_7.predict(X_ho.loc[:,['value_3_23','value_5_23','value_7_23']])\n",
    "\n",
    "LinearRegression_10 = LinearRegression()\n",
    "LinearRegression_10.fit(X_train.loc[:,['value_5_23','value_7_23','value_10_23']],Y_train['value_10_24'])    \n",
    "\n",
    "lin_reg['value_10'] = LinearRegression_10.predict(X_ho.loc[:,['value_5_23','value_7_23','value_10_23']])\n",
    "\n",
    "linreg_mean_sq = [i,'LinReg']+mean_sq_calculate(lin_reg,Y_ho)\n",
    "mean_sq.append(linreg_mean_sq)\n",
    "\n",
    "s = []\n",
    "s.append(LinearRegression_1.score(X_ho.loc[:,['value_1_23','value_2_23']],Y_ho['value_1_24']))\n",
    "s.append(LinearRegression_2.score(X_ho.loc[:,['value_1_23','value_2_23']],Y_ho['value_2_24']))\n",
    "s.append(LinearRegression_3.score(X_ho.loc[:,['value_2_23','value_3_23']],Y_ho['value_3_24']))\n",
    "s.append(LinearRegression_5.score(X_ho.loc[:,['value_3_23','value_5_23']],Y_ho['value_5_24']))\n",
    "s.append(LinearRegression_7.score(X_ho.loc[:,['value_3_23','value_5_23','value_7_23']],Y_ho['value_7_24']))\n",
    "s.append(LinearRegression_10.score(X_ho.loc[:,['value_5_23','value_7_23','value_10_23']],Y_ho['value_10_24']))\n",
    "\n",
    "score_1.append(s)\n",
    "\n",
    "i+=1\n",
    "\n"
   ]
  },
  {
   "cell_type": "code",
   "execution_count": null,
   "id": "a01449c0",
   "metadata": {},
   "outputs": [],
   "source": [
    "#This table compares Taking average vs Linear Regression on Sliding Window to Predict the next month's values. \n",
    "mean_sq = pd.DataFrame(mean_sq,columns=['N','Model','Value_1','Value_2','Value_3','Value_5','Value_7','Value_10'])\n",
    "mean_sq"
   ]
  },
  {
   "cell_type": "code",
   "execution_count": null,
   "id": "c1e6079c",
   "metadata": {},
   "outputs": [],
   "source": [
    "score_1 = pd.DataFrame(score_1,columns=['Value_1','Value_2','Value_3','Value_5','Value_7','Value_10'])\n",
    "score_1"
   ]
  },
  {
   "cell_type": "code",
   "execution_count": null,
   "id": "c2c05394",
   "metadata": {},
   "outputs": [],
   "source": [
    "model_2_score = score_1.mean(axis=0)\n",
    "model_1_score = score.mean(axis=0)\n",
    "comp_model_scores = pd.concat([model_1_score,model_2_score],axis=1)\n",
    "comp_model_scores['diff'] = comp_model_scores[0]-comp_model_scores[1]\n",
    "comp_model_scores.rename(columns={0:'Model1'}, inplace=True)\n",
    "comp_model_scores.rename(columns={1:'Model2'}, inplace=True)\n",
    "comp_model_scores.rename(columns={'diff':'Model1-Model2'}, inplace=True)"
   ]
  },
  {
   "cell_type": "code",
   "execution_count": null,
   "id": "9cb3d3c4",
   "metadata": {},
   "outputs": [],
   "source": []
  },
  {
   "cell_type": "code",
   "execution_count": null,
   "id": "b5892bf1",
   "metadata": {},
   "outputs": [],
   "source": [
    "#Arima Models"
   ]
  },
  {
   "cell_type": "code",
   "execution_count": null,
   "id": "ef891609",
   "metadata": {},
   "outputs": [],
   "source": [
    "#Changing DataTypes\n",
    "comb_df['date'] = pd.to_datetime(comb_df['date'],format='%Y-%m-%d')\n",
    "\n",
    "for i in [1,2,3,5,7,10]:\n",
    "    s = 'value_'+ str(i)\n",
    "    comb_df[s] = comb_df[s].astype(float)\n"
   ]
  },
  {
   "cell_type": "code",
   "execution_count": null,
   "id": "fe771948",
   "metadata": {},
   "outputs": [],
   "source": [
    "from matplotlib import pyplot\n",
    "comb_df.set_index('date',inplace=True)\n",
    "comb_df.plot()\n",
    "pyplot.show()"
   ]
  },
  {
   "cell_type": "code",
   "execution_count": null,
   "id": "24ee7842",
   "metadata": {},
   "outputs": [],
   "source": [
    "pd.plotting.autocorrelation_plot(comb_df)"
   ]
  },
  {
   "cell_type": "code",
   "execution_count": null,
   "id": "8a1175cc",
   "metadata": {},
   "outputs": [],
   "source": [
    "comb_df"
   ]
  },
  {
   "cell_type": "code",
   "execution_count": null,
   "id": "93143d6f",
   "metadata": {},
   "outputs": [],
   "source": [
    "from statsmodels.tsa.arima.model import ARIMA\n",
    "from math import sqrt\n",
    "df_1_train = df_1.iloc[:k_l].copy()\n",
    "df_1_test = df_1.iloc[k_l:k_v].copy()\n",
    "df_1['date'] = pd.to_datetime(df_1['date'],format='%Y-%m-%d')\n",
    "df_1['value_1'] = df_1['value_1'].astype(float)\n",
    "df_1_train = df_1_train.dropna().copy()"
   ]
  },
  {
   "cell_type": "code",
   "execution_count": null,
   "id": "2f426aac",
   "metadata": {},
   "outputs": [],
   "source": []
  },
  {
   "cell_type": "code",
   "execution_count": null,
   "id": "76df60d1",
   "metadata": {
    "scrolled": true
   },
   "outputs": [],
   "source": [
    "history = [float(x) for x in df_1_train.value_1]\n",
    "predictions = list()\n",
    "for t in range(len(df_1_test.index)):\n",
    "    model = ARIMA(history, order=(2,1,1))\n",
    "    model_fit = model.fit()\n",
    "    output = model_fit.forecast()\n",
    "    yhat = output[0]\n",
    "    predictions.append(yhat)\n",
    "    obs = df_1_test.iat[t,1]\n",
    "    history.append(obs)\n",
    "    #print('predicted=%f, expected=%f' % (yhat, obs))\n",
    "    print(f'predicted={str(yhat)}, expected={str(obs)}')\n"
   ]
  },
  {
   "cell_type": "code",
   "execution_count": null,
   "id": "49c34181",
   "metadata": {},
   "outputs": [],
   "source": [
    "rmse_1 = mean_squared_error(df_1_test.value_1, predictions,squared=False)\n",
    "Arima_scores = []\n",
    "from sklearn.metrics import r2_score\n",
    "r2_1 = r2_score(df_1_test.value_1, predictions)\n",
    "Arima_scores.append(r2_1)\n",
    "print('Test RMSE: %.3f' % rmse_1)\n",
    "print(r2_1)\n",
    "# plot forecasts against actual outcomes\n",
    "pyplot.plot(list(df_1_test.value_1))\n",
    "pyplot.plot(predictions, color='red')\n",
    "pyplot.show()"
   ]
  },
  {
   "cell_type": "code",
   "execution_count": null,
   "id": "bb681077",
   "metadata": {},
   "outputs": [],
   "source": [
    "comp_model_scores.rename(columns={0:'Model1',1:'Model2','diff':'Model1 - Model2'})"
   ]
  },
  {
   "cell_type": "code",
   "execution_count": null,
   "id": "c8191695",
   "metadata": {},
   "outputs": [],
   "source": [
    "l2 = int(len(df_2)*0.8)\n",
    "df_2['date'] = pd.to_datetime(df_2['date'],format='%Y-%m-%d')\n",
    "df_2['value_2'] = df_2['value_2'].astype(float)\n",
    "df_2_train = df_2.iloc[:l2].copy()\n",
    "df_2_test = df_2.iloc[l2:].copy()\n",
    "df_2_train = df_2_train.dropna().copy()"
   ]
  },
  {
   "cell_type": "code",
   "execution_count": null,
   "id": "8c617c04",
   "metadata": {},
   "outputs": [],
   "source": [
    "history_2 = [float(x) for x in df_2_train.value_2]\n",
    "predictions_2 = list()\n",
    "for t in range(len(df_2_test)):\n",
    "    model_2 = ARIMA(history_2, order=(2,1,1))\n",
    "    model_2_fit = model_2.fit()\n",
    "    output = model_2_fit.forecast()\n",
    "    yhat = output[0]\n",
    "    predictions_2.append(yhat)\n",
    "    obs = df_2_test.iat[t,1]\n",
    "    history_2.append(float(obs))\n",
    "    #print('predicted=%f, expected=%f' % (yhat, obs))\n",
    "    print(f'predicted={str(yhat)}, expected={str(obs)}')\n"
   ]
  },
  {
   "cell_type": "code",
   "execution_count": null,
   "id": "5b9dc951",
   "metadata": {},
   "outputs": [],
   "source": [
    "# evaluate forecasts\n",
    "rmse_2 = mean_squared_error(df_2_test.value_2, predictions_2,squared=False)\n",
    "r2_2 = r2_score(df_2_test.value_2, predictions_2)\n",
    "Arima_scores.append(r2_2)\n",
    "print('Test RMSE: %.3f' % rmse_2)\n",
    "print(r2_2)\n",
    "# plot forecasts against actual outcomes\n",
    "pyplot.plot(list(df_2_test.value_2.astype(float)))\n",
    "pyplot.plot(list(predictions_2), color='red')\n",
    "pyplot.show()"
   ]
  },
  {
   "cell_type": "code",
   "execution_count": null,
   "id": "8e2e77d5",
   "metadata": {},
   "outputs": [],
   "source": [
    "l3 = int(len(df_3)*0.8)\n",
    "df_3['date'] = pd.to_datetime(df_3['date'],format='%Y-%m-%d')\n",
    "df_3['value_2'] = df_3['value_3'].astype(float)\n",
    "df_3_train = df_3.iloc[:l3].copy()\n",
    "df_3_test = df_3.iloc[l3:].copy()\n",
    "df_3_train = df_3_train.dropna().copy()"
   ]
  },
  {
   "cell_type": "code",
   "execution_count": null,
   "id": "8d250626",
   "metadata": {},
   "outputs": [],
   "source": [
    "history_3 = [float(x) for x in df_3_train.value_3]\n",
    "predictions_3 = list()\n",
    "for t in range(len(df_3_test)):\n",
    "    model_3 = ARIMA(history_3, order=(2,1,1))\n",
    "    model_3_fit = model_3.fit()\n",
    "    output = model_3_fit.forecast()\n",
    "    yhat = output[0]\n",
    "    predictions_3.append(yhat)\n",
    "    obs = df_3_test.iat[t,1]\n",
    "    history_3.append(float(obs))\n",
    "    #print('predicted=%f, expected=%f' % (yhat, obs))\n",
    "    print(f'predicted={str(yhat)}, expected={str(obs)}')\n"
   ]
  },
  {
   "cell_type": "code",
   "execution_count": null,
   "id": "181a6058",
   "metadata": {},
   "outputs": [],
   "source": [
    "# evaluate forecasts\n",
    "rmse_3 = mean_squared_error(df_3_test.value_3, predictions_3,squared=False)\n",
    "r2_3 = r2_score(df_3_test.value_3, predictions_3)\n",
    "print('Test RMSE: %.3f' % rmse_3)\n",
    "print(r2_3)\n",
    "Arima_scores.append(r2_3)\n",
    "# plot forecasts against actual outcomes\n",
    "pyplot.plot(list(df_3_test.value_3.astype(float)))\n",
    "pyplot.plot(list(predictions_3), color='red')\n",
    "pyplot.show()"
   ]
  },
  {
   "cell_type": "code",
   "execution_count": null,
   "id": "d492df2c",
   "metadata": {},
   "outputs": [],
   "source": [
    "l5 = int(len(df_5)*0.8)\n",
    "df_5['date'] = pd.to_datetime(df_5['date'],format='%Y-%m-%d')\n",
    "df_5['value_2'] = df_5['value_5'].astype(float)\n",
    "df_5_train = df_5.iloc[:l5].copy()\n",
    "df_5_test = df_5.iloc[l5:].copy()\n",
    "df_5_train = df_5_train.dropna().copy()"
   ]
  },
  {
   "cell_type": "code",
   "execution_count": null,
   "id": "921a35aa",
   "metadata": {},
   "outputs": [],
   "source": [
    "history_5 = [float(x) for x in df_5_train.value_5]\n",
    "predictions_5 = list()\n",
    "for t in range(len(df_5_test)):\n",
    "    model_5 = ARIMA(history_5, order=(2,1,1))\n",
    "    model_5_fit = model_5.fit()\n",
    "    output = model_5_fit.forecast()\n",
    "    yhat = output[0]\n",
    "    predictions_5.append(yhat)\n",
    "    obs = df_5_test.iat[t,1]\n",
    "    history_5.append(float(obs))\n",
    "    #print('predicted=%f, expected=%f' % (yhat, obs))\n",
    "    print(f'predicted={str(yhat)}, expected={str(obs)}')\n"
   ]
  },
  {
   "cell_type": "code",
   "execution_count": null,
   "id": "e266b680",
   "metadata": {},
   "outputs": [],
   "source": [
    "# evaluate forecasts\n",
    "rmse_5 = mean_squared_error(df_5_test.value_5, predictions_5,squared=False)\n",
    "r2_5 = r2_score(df_5_test.value_5, predictions_5)\n",
    "print('Test RMSE: %.3f' % rmse_5)\n",
    "print(r2_5)\n",
    "Arima_scores.append(r2_5)\n",
    "# plot forecasts against actual outcomes\n",
    "pyplot.plot(list(df_5_test.value_5.astype(float)))\n",
    "pyplot.plot(list(predictions_5), color='red')\n",
    "pyplot.show()"
   ]
  },
  {
   "cell_type": "code",
   "execution_count": null,
   "id": "cdef0e94",
   "metadata": {},
   "outputs": [],
   "source": [
    "l7 = int(len(df_7)*0.8)\n",
    "df_7['date'] = pd.to_datetime(df_7['date'],format='%Y-%m-%d')\n",
    "df_7['value_2'] = df_7['value_7'].astype(float)\n",
    "df_7_train = df_7.iloc[:l7].copy()\n",
    "df_7_test = df_7.iloc[l7:].copy()\n",
    "df_7_train = df_7_train.dropna().copy()"
   ]
  },
  {
   "cell_type": "code",
   "execution_count": null,
   "id": "a870d694",
   "metadata": {},
   "outputs": [],
   "source": [
    "history_7 = [float(x) for x in df_7_train.value_7]\n",
    "predictions_7 = list()\n",
    "for t in range(len(df_7_test)):\n",
    "    model_7 = ARIMA(history_7, order=(2,1,1))\n",
    "    model_7_fit = model_7.fit()\n",
    "    output = model_7_fit.forecast()\n",
    "    yhat = output[0]\n",
    "    predictions_7.append(yhat)\n",
    "    obs = df_7_test.iat[t,1]\n",
    "    history_7.append(float(obs))\n",
    "    #print('predicted=%f, expected=%f' % (yhat, obs))\n",
    "    print(f'predicted={str(yhat)}, expected={str(obs)}')\n"
   ]
  },
  {
   "cell_type": "code",
   "execution_count": null,
   "id": "dbefc7b8",
   "metadata": {},
   "outputs": [],
   "source": [
    "# evaluate forecasts\n",
    "rmse_7 = mean_squared_error(df_7_test.value_7, predictions_7,squared=False)\n",
    "r2_7 = r2_score(df_7_test.value_7, predictions_7)\n",
    "print('Test RMSE: %.3f' % rmse_7)\n",
    "print(r2_7)\n",
    "Arima_scores.append(r2_7)\n",
    "# plot forecasts against actual outcomes\n",
    "pyplot.plot(list(df_7_test.value_7.astype(float)))\n",
    "pyplot.plot(list(predictions_7), color='red')\n",
    "pyplot.show()"
   ]
  },
  {
   "cell_type": "code",
   "execution_count": null,
   "id": "079d3d88",
   "metadata": {},
   "outputs": [],
   "source": [
    "l10 = int(len(df_10)*0.8)\n",
    "df_10['date'] = pd.to_datetime(df_10['date'],format='%Y-%m-%d')\n",
    "df_10['value_10'] = df_10['value_10'].astype(float)\n",
    "df_10_train = df_10.iloc[:l10].copy()\n",
    "df_10_test = df_10.iloc[l10:].copy()\n",
    "df_10_train = df_10_train.dropna().copy()"
   ]
  },
  {
   "cell_type": "code",
   "execution_count": null,
   "id": "d659e4f7",
   "metadata": {
    "scrolled": true
   },
   "outputs": [],
   "source": [
    "history_10 = [float(x) for x in df_10_train.value_10]\n",
    "predictions_10 = list()\n",
    "for t in range(len(df_10_test)):\n",
    "    model_10 = ARIMA(history_10, order=(2,1,1))\n",
    "    model_10_fit = model_10.fit()\n",
    "    output = model_10_fit.forecast()\n",
    "    yhat = output[0]\n",
    "    predictions_10.append(yhat)\n",
    "    obs = df_10_test.iat[t,1]\n",
    "    history_10.append(obs)\n",
    "    #print('predicted=%f, expected=%f' % (yhat, obs))\n",
    "    print(f'predicted={str(yhat)}, expected={str(obs)}')\n"
   ]
  },
  {
   "cell_type": "code",
   "execution_count": null,
   "id": "ebd864c1",
   "metadata": {},
   "outputs": [],
   "source": [
    "# evaluate forecasts\n",
    "rmse_10 = mean_squared_error(df_10_test.value_10, predictions_10,squared=False)\n",
    "r2_10 = r2_score(df_10_test.value_10, predictions_10)\n",
    "print('Test RMSE: %.3f' % rmse_7)\n",
    "print(r2_7)\n",
    "Arima_scores.append(r2_10)\n",
    "# plot forecasts against actual outcomes\n",
    "pyplot.plot(list(df_10_test.value_10.astype(float)))\n",
    "pyplot.plot(list(predictions_10), color='red')\n",
    "pyplot.show()"
   ]
  },
  {
   "cell_type": "code",
   "execution_count": null,
   "id": "4b3afd3d",
   "metadata": {},
   "outputs": [],
   "source": [
    "comp_model_scores['Arima'] = Arima_scores\n",
    "comp_model_scores['Model2-Arima'] = comp_model_scores['Model2']-comp_model_scores['Arima']\n",
    "comp_model_scores"
   ]
  }
 ],
 "metadata": {
  "kernelspec": {
   "display_name": "Python 3.9.10 64-bit",
   "language": "python",
   "name": "python3"
  },
  "language_info": {
   "codemirror_mode": {
    "name": "ipython",
    "version": 3
   },
   "file_extension": ".py",
   "mimetype": "text/x-python",
   "name": "python",
   "nbconvert_exporter": "python",
   "pygments_lexer": "ipython3",
   "version": "3.9.10"
  },
  "vscode": {
   "interpreter": {
    "hash": "5b417a83a4fda81c893b4c5b40e9eb7d614075988bc8b7bd51537d086ab6a6be"
   }
  }
 },
 "nbformat": 4,
 "nbformat_minor": 5
}
